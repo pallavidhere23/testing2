{
 "cells": [
  {
   "cell_type": "markdown",
   "metadata": {},
   "source": [
    "# Baye's Theorem"
   ]
  },
  {
   "cell_type": "markdown",
   "metadata": {},
   "source": [
    "### Introduction\n",
    "\n",
    "Befor starting with *Bayes Theorem* we can have a look at some definitions.\n",
    "\n",
    "**Conditional Probability :**\n",
    "Conditional Probability is the Probability of one event occuring with some Relationship to one or more events.\n",
    "Let A and B be the two interdependent event,where A has already occured then the probabilty of B will be \n",
    " $$ P(B|A) = P(A \\cap B)|P(A) $$\n",
    " \n",
    "**Joint Probability :**\n",
    "Joint Probability is a Statistical measure that Calculates the Likehood of two events occuring together and at the same point in time.\n",
    " $$ P(A \\cap B) = P(A|B) * P(B) $$"
   ]
  },
  {
   "cell_type": "markdown",
   "metadata": {},
   "source": [
    "### Bayes Theorem\n",
    "\n",
    "Bayes Theorem was named after **Thomas Bayes**,who discovered it in **1763** and worked in the field of Decision Theory.\n",
    "\n",
    "Bayes Theorem is a mathematical formula used to determine the **Conditional Probability** of events without the **Joint Probability**.\n",
    "\n",
    "**Statement**\n",
    "\n",
    "If B$_{1}$, B$_{2}$, B$_{3}$,.....,B$_{n}$ are Mutually exclusive event with P(B$_{i}$) $\\not=$  0 ,( i=1,2,3,...,n) of Random Experiment then for any Arbitrary event A of the Sample Space of the above Experiment with P(A)>0,we have\n",
    "\n",
    "$$ P(B_{i}|A) = P(B_{i})P(A|B_{i})/ \\sum\\limits_{i=1}^{n} P(B_{i})P(A|B_{i}) $$\n",
    "\n",
    "**Proof**\n",
    "\n",
    "Let S be the Sample Space of the Random Experiment.The Event  B$_{1}$, B$_{2}$, B$_{3}$,.....,B$_{n}$ being Exhaustive\n",
    "$$ S = (B_{1} \\cup B_{2} \\cup ...\\cup B_{n})  \\hspace{1cm} \\hspace{0.1cm}      [\\therefore A \\subset S] $$\n",
    "$$ A = A \\cap S = A \\cap ( B_{1} \\cup B_{2} \\cup B_{3},.....,\\cup B_{n}) $$\n",
    "$$   = (A \\cap B_{1}) \\cup (A \\cap B_{2}) \\cup ... \\cup (A \\cap B_{n}) $$\n",
    "\n",
    "$$ P(A) = P(A \\cap B_{1}) + P (A \\cap B_{2}) + ...+ P(A \\cap B_{n}) $$\n",
    "$$  \\hspace{3cm} \\hspace{0.1cm}    = P(B_{1})P(A|B_{1}) + P(B_{2})P(A|B_{2}) + ... +P(B_{n})P(A|B_{n}) $$\n",
    "$$      = \\sum\\limits_{i=1}^{n} P(B_{i})P(A|B_{i}) $$\n",
    "\n",
    "Now,\n",
    "$$ P(A \\cap B_{i}) = P(A)P(B_{i}|A) $$\n",
    "$$ P(B_{i}|A) = P(A \\cap B_{i})/P(A) = P(B_{i})P(A|B_{i})/\\sum\\limits_{i=1}^{n} P(B_{i})P(A|B_{i}) $$\n",
    "\n",
    "**P(B)** is the Probability of occurence **B**.If we know that the event **A** has already occured.On knowing about the event **A**,**P(B)** is changed to **P(B|A)**.With the help of **Bayes Theorem we can Calculate P(B|A)**.\n",
    "\n",
    "**Naming Conventions :**\n",
    "\n",
    "<br>\n",
    "P(A/B) : Posterior Probability \n",
    "<br>\n",
    "P(A) : Prior Probability\n",
    "<br>\n",
    "P(B/A) : Likelihood\n",
    "<br>\n",
    "P(B) : Evidence \n",
    "<br>\n",
    "So, Bayes Theorem can be Restated as :\n",
    "$$ Posterior = Likelihood * Prior / Evidence $$\n",
    "\n"
   ]
  },
  {
   "cell_type": "markdown",
   "metadata": {},
   "source": [
    " Now we will be looking at some problem examples on Bayes Theorem.\n",
    "    \n",
    "**Example 1** :Suppose that the reliability of a Covid-19 test is specified as follows:\n",
    "<br>\n",
    "Of Population having Covid-19 , 90% of the test detect the desire but 10% go undetected.Of Population free of Covid-19 , 99% of the test are judged Covid-19 -tive but 1% are diagnosed showing Covid-19 +tive.From a large population of which only 0.1% have Covid-19,one person is selected at Random,given the Covid-19 test,and the pathologist Report him/her as Covid-19 positive.What is the Probability that the person actually have Covid-19?"
   ]
  },
  {
   "cell_type": "markdown",
   "metadata": {},
   "source": [
    "**Solution**<br>\n",
    "Let, <br>\n",
    "B$_{1}$ = The Person Selected is Actually having Covid-19.<br>\n",
    "B$_{2}$ = The Person Selected is not having Covid-19.<br>\n",
    "A = The Person Covid-19 Test is Diagnosed as Positive.<br>\n",
    "\n",
    "P(B$_{1}$) = 0.1% = 0.1/100 = 0.001<br>\n",
    "P(B$_{2}$) = 1-P(B$_{1}$) = 1-0.001 = 0.999<br>\n",
    "P(A|B$_{1}$) = Probability that the person tested Covid-19 +tive given that he / she is actually having Covid-19.= 90/100 = 0.9 <br>\n",
    "P(A|B$_{2}$) = Probability that the person tested Covid-19 +tive given that he / she is actually not having Covid-19.= 1/100 = 0.01 <br>\n",
    "\n",
    "Required Probability = P(B$_{1}$|A) = P(B$_{1}$) * P(A|B$_{1}$)/ (((P(B$_{1}$) * P(A|B$_{1}$))+((P(B$_{2}$) * P(A|B$_{2}$)))<br>\n",
    "                     = (0.001 * 0.9)/(0.001 * 0.9+0.999 * 0.01) = 90/1089 =0.08264\n"
   ]
  },
  {
   "cell_type": "markdown",
   "metadata": {},
   "source": [
    "We will Now use Python to calculate the same."
   ]
  },
  {
   "cell_type": "code",
   "execution_count": 1,
   "metadata": {},
   "outputs": [
    {
     "name": "stdout",
     "output_type": "stream",
     "text": [
      "P(B1|A)= 8.264 %\n"
     ]
    }
   ],
   "source": [
    "#calculate P(B1|A) given P(B1),P(A|B1),P(A|B2),P(B2)\n",
    "def bayes_theorem(p_b1,p_a_given_b1,p_a_given_b2,p_b2):\n",
    "   p_b1_given_a=(p_b1*p_a_given_b1)/((p_b1*p_a_given_b1)+(p_b2*p_a_given_b2))\n",
    "   return p_b1_given_a\n",
    "\n",
    "#P(B1)\n",
    "p_b1=0.001\n",
    "#P(B2)\n",
    "p_b2=0.999\n",
    "#P(A|B1)\n",
    "p_a_given_b1=0.9\n",
    "#P(A|B2)\n",
    "p_a_given_b2=0.01\n",
    "result=bayes_theorem(p_b1,p_a_given_b1,p_a_given_b2,p_b2)\n",
    "print('P(B1|A)=% .3f %%'%(result*100))\n",
    "                                     "
   ]
  },
  {
   "cell_type": "markdown",
   "metadata": {},
   "source": [
    "**Example 2 :** In a Quiz,a contestant either guesses or cheat or knows the answer to a multiple choice question with four choices.The Probability that he/she makes a guess is 1/3 and the Probability that he /she cheats the answer is 1/6.The Probability that his answer is correct,given that he cheated it,is 1/8.Find the Probability that he knows the answer to the question,given that he/she correctly answered it."
   ]
  },
  {
   "cell_type": "markdown",
   "metadata": {},
   "source": [
    "**Solution**<br>\n",
    "Let, <br>\n",
    "B$_{1}$ = Contestant guesses the answer.<br>\n",
    "B$_{2}$ = Contestant cheated the answer.<br>\n",
    "B$_{3}$ = Contestant knows the answer.<br>\n",
    "A = Contestant answer correctly.<br>\n",
    "clearly,<br>\n",
    "P(B$_{1}$) = 1/3 , P(B$_{2}$) =1/6<br>\n",
    "\n",
    "Since B$_{1}$ ,B$_{2}$, B$_{3}$ are mutually exclusive and exhaustive event.\n",
    "P(B$_{1}$) + P(B$_{2}$) + P(B$_{3}$) = 1 => P(B$_{3}$) = 1 - (P(B$_{1}$) + P(B$_{2}$))\n",
    "=1-1/3-1/6=1/2\n",
    "\n",
    "\n",
    "If B$_{1}$ has already occured,the contestant guesses,the there are four choices out of which only one is correct.<br>\n",
    "$\\therefore$ the Probability that he answers correctly given that he/she has made a guess is 1/4 i.e. **P(A|B$-{1}$) = 1/4**<br>\n",
    "It is given that he knew the answer = 1<br>\n",
    "By Bayes Theorem,<br>\n",
    "Required Probability = P(B$_{3}$|A)<br>\n",
    "\n",
    "= P(B$_{3}$)P(A|B$_{3}$)/(P(B$_{1}$)P(A|B$_{1}$)+P(B$_{2}$)P(A|B$_{2}$)+P(B$_{3}$)P(A|B$_{3}$))\n",
    "= (1/2 * 1) / ((1/3 * 1/4) + (1/6 * 1/8) + (1/2 * 1))=24/29\n",
    "\n"
   ]
  },
  {
   "cell_type": "code",
   "execution_count": 2,
   "metadata": {},
   "outputs": [
    {
     "name": "stdout",
     "output_type": "stream",
     "text": [
      "P(B3|A)= 82.759 %\n"
     ]
    }
   ],
   "source": [
    "#calculate P(B1|A) given P(B1),P(A|B1),P(A|B2),P(B2),P(B3),P(A|B3)\n",
    "def bayes_theorem(p_b1,p_a_given_b1,p_a_given_b2,p_b2,p_b3,p_a_given_b3):\n",
    "   p_b3_given_a=(p_b3*p_a_given_b3)/((p_b1*p_a_given_b1)+(p_b2*p_a_given_b2)+(p_b3*p_a_given_b3))\n",
    "   return p_b3_given_a\n",
    "\n",
    "#P(B1)\n",
    "p_b1=1/3\n",
    "#P(B2)\n",
    "p_b2=1/6\n",
    "#P(B3)\n",
    "p_b3=1/2\n",
    "#P(A|B1)\n",
    "p_a_given_b1=1/4\n",
    "#P(A|B2)\n",
    "p_a_given_b2=1/8\n",
    "#P(A|B3)\n",
    "p_a_given_b3=1\n",
    "result=bayes_theorem(p_b1,p_a_given_b1,p_a_given_b2,p_b2,p_b3,p_a_given_b3)\n",
    "print('P(B3|A)=% .3f %%'%(result*100))\n",
    "                                     "
   ]
  }
 ],
 "metadata": {
  "kernelspec": {
   "display_name": "Python 3",
   "language": "python",
   "name": "python3"
  },
  "language_info": {
   "codemirror_mode": {
    "name": "ipython",
    "version": 3
   },
   "file_extension": ".py",
   "mimetype": "text/x-python",
   "name": "python",
   "nbconvert_exporter": "python",
   "pygments_lexer": "ipython3",
   "version": "3.8.5"
  }
 },
 "nbformat": 4,
 "nbformat_minor": 4
}
