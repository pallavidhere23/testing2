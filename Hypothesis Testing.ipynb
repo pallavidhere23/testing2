{
 "cells": [
  {
   "cell_type": "markdown",
   "metadata": {},
   "source": [
    "# Hypothesis"
   ]
  },
  {
   "cell_type": "markdown",
   "metadata": {},
   "source": [
    "### Introduction\n",
    "\n",
    "Before starting with *Hypothesis* we can have a look at some definitions.\n",
    "\n",
    "**Population :**\n",
    "The group of individuals,under study is called population(can be finite or infinite).<br>\n",
    "**Sample :**\n",
    "A finite subset of statistical individuals in a population is called sample.<br>\n",
    "**Sample size :**\n",
    "The number of individuals in a sample is called the sample size.It is denoted by n.<br>\n",
    "**Sampling error :**\n",
    "The error invole during examining a sample of particular stuff we arrive at a decision of purchasing or rejecting the stuff is called sampling error.<br>\n",
    "**Parameters :**\n",
    "The statistical constants of population parameters such a mean and variance.<br>\n",
    "**Statistics :**\n",
    "Statistical constants computed from sample observation alone.<br>\n",
    "**Standard error :**\n",
    "The standard deviation of the sampling distribution is called standard error.<br>"
   ]
  },
  {
   "cell_type": "markdown",
   "metadata": {},
   "source": [
    "### Hypothesis\n",
    "\n",
    "A Hypothesis is nothing but a proposed explanation for a phenomeanon.A Statistical hypothesis is a statement about a population parameter.It is always Tested and verified.<br>\n",
    "In Hypothesis Testing, we check a sample statistic against a population statistic, check the sample after some intervention to check a sample with another sample.Hypothesis Testing is done on different levels of confidence and then calculate the probability."
   ]
  },
  {
   "cell_type": "markdown",
   "metadata": {},
   "source": [
    "### Hypothesis Testing\n",
    "\n",
    "The Procedure which enable us to decide on the basis of sample result whether a hypothesis is true or not is called Hypothesis Testing.Hypothesis Testing are of two types : <br>\n",
    "**Null Hypothesis :**\n",
    "It can be defined as the sample statistic to be equal to the population statistic or that the intervention doesn't bring any difference to the sample.<br>\n",
    "**Alternate Hypothesis :**\n",
    "It can be defined as the intervention which brings a significant difference to the sample, or that the sample is significantly different from the population.<br>"
   ]
  },
  {
   "cell_type": "markdown",
   "metadata": {},
   "source": [
    "#### Directional and Non Directional Hypothesis Testing\n",
    "\n",
    "We will understatand this by taking example.<br>\n",
    "Annual Report of students marks of a school is poor, Principle is concern about this. So, Teachers suggested to start a music lession to improve students focus.\n",
    "\n",
    "**Null :** \n",
    "Introducing music did not improve the performance of students.<br>\n",
    "**Alternative :**\n",
    "Introducing music made a significance improvement in the performance of students.\n",
    "\n",
    "For, Directional Hyposthesis, the null Hyposthesis is tested in one direction.In this case, one tail test is used(we will see this in later section). For example, Did the performance improve on introducing music?"
   ]
  },
  {
   "cell_type": "markdown",
   "metadata": {},
   "source": [
    "![title](OneDrive/Desktop/Screenshot%20(28).png)"
   ]
  },
  {
   "cell_type": "markdown",
   "metadata": {},
   "source": [
    "For Non Directional Hypothesis,the null hypothesis is tested in both the directions.In this case, two tail test is used(we will see this in later section). For example, Did the performance improve or decrease on introducing music?"
   ]
  },
  {
   "cell_type": "markdown",
   "metadata": {},
   "source": [
    "![title](OneDrive/Desktop/Screenshot%20(27).png)"
   ]
  },
  {
   "cell_type": "markdown",
   "metadata": {},
   "source": [
    "### Understanding Errors while Hypothesis Testing"
   ]
  },
  {
   "cell_type": "markdown",
   "metadata": {},
   "source": [
    "##### Table for Hypothesis Testing Error\n",
    "\n",
    "|                        |   H$_{0}$ True   |   H$_{0}$ True    |\n",
    "|-----------------------:|:-----------------|:------------------|\n",
    "|    Reject H$_{0}$      |   Type 1 Error   | Coreect rejection |\n",
    "| Fail to Reject H$_{0}$ | Correct Decision |   Type 2 Error    |"
   ]
  },
  {
   "cell_type": "markdown",
   "metadata": {},
   "source": [
    "Hypothesis is not factual. It is highly dependent on the Researchers.\n",
    "\n",
    "**Type 1 Error :**\n",
    "Rejecting the Null Hypothesis When it's actually True.<br>\n",
    "**Type 2 Error :**\n",
    "Falling to Reject the null Hypothesis when it's actually false.<br>"
   ]
  },
  {
   "cell_type": "markdown",
   "metadata": {},
   "source": [
    "### Terminology\n",
    "\n",
    "**Critical region :** A  region  in  which  null  hypothesis H$_{0}$ is  rejected  is  called  the  critical  region  (or)  region  of rejection.\n",
    "\n",
    "**Degree Of Freedon :** The Degree of freedom Refers to the number of independent observations in s set of data.\n",
    "$$ Degree of Freedom = n-1 $$\n",
    "\n",
    "**Level of significance(l.o.s) :** The  maximum  probability  of making type-I  error  is  called  level  of  significance  and  is denoted by $\\alpha$. Where,\n",
    "$$ \\alpha = P (makingType-I error)= P (H_{o} is \\space rejected \\space when \\space it \\space is \\space true) $$\n",
    "This can be measured in terms of percentage i.e. 5%, 1%, 10% etc......."
   ]
  },
  {
   "cell_type": "markdown",
   "metadata": {},
   "source": [
    "### One Tailed and Two Tailed Tests\n",
    "\n",
    "A  test  with the  null  hypothesis H$_{o}$ : $\\theta$ = $\\theta_{o}$ against  the  alternative hypothesis  H$_{1}$ : $\\theta$ $\\not=$ $\\theta_{o}$,  it  is called  a **two  tailed  test**.  In  this  case  the  critical  region  is  located  on  both  the  tails  of  the distribution.<br>\n",
    "A testwith  the  null  hypothesis H$_{o}$ : $\\theta$ = $\\theta_{o}$ against  the  alternative  hypothesis H$_{1}$ : $\\theta$ > $\\theta_{o}$(right tailed alternative) or H$_{1}$ : $\\theta$ < $\\theta_{o}$ (left tailed alternative)is called **one tailed test**. In this case the critical region is located on one tail of the distribution.<br>\n",
    " H$_{o}$ : $\\theta$ = $\\theta_{o}$ against H$_{1}$ : $\\theta$ > $\\theta_{o}$ -------right tailed test<br> \n",
    "H$_{o}$ : $\\theta$ = $\\theta_{o}$ against H$_{1}$ : $\\theta$ < $\\theta_{o}$ -------left tailed test"
   ]
  },
  {
   "cell_type": "markdown",
   "metadata": {},
   "source": [
    "![title](OneDrive/Desktop/Screenshot%20(29).png)"
   ]
  },
  {
   "cell_type": "markdown",
   "metadata": {},
   "source": [
    "### Procedure for testing of hypothesis\n",
    "\n",
    "1.Set up a null hypothesis i.e. H$_{o}$ : $\\theta$ = $\\theta_{o}$ <br>\n",
    "2.Set up a alternative hypothesis i.e. H$_{1}$ : $\\theta$ $\\not=$ $\\theta_{o}$ ,H$_{1}$ : $\\theta$ > $\\theta_{o}$ ,or  H$_{1}$ : $\\theta$ < $\\theta_{o}$ <br>\n",
    "3.Choose the level of significance i.e. $\\alpha$.<br>\n",
    "4.Select appropriate test statistic Z.<br>\n",
    "5.Select a random sample and compute the test statistic.<br>\n",
    "6.Calculate the tabulated value of Z at $\\alpha$% l.o.s i.e. Z$_{\\alpha}$.<br>\n",
    "7.Compare  the  test  statistic  value  with  the  tabulated  value  at $\\alpha$%  l.o.s.  and  make  a  decision whether to accept or to reject the null hypothesis.<br>"
   ]
  },
  {
   "cell_type": "markdown",
   "metadata": {},
   "source": [
    "### Tests\n",
    "\n",
    "Now look at the different types of test and when the are used.\n",
    "\n",
    "#### One Sample T - Test\n",
    "\n",
    "This test is used when we have a very small Sample n <30.It is denoted by t.\n",
    "\n",
    "$$ t = \\frac {\\bar x - \\mu }{ (s / \\sqrt n )} $$\n",
    "\n",
    "where, $\\bar x$ is sample mean <br>\n",
    " $\\space$      $ \\mu $ is population mean <br>\n",
    " $\\space$      s is standard deviation <br>\n",
    " $\\space$      n is size of population"
   ]
  },
  {
   "cell_type": "markdown",
   "metadata": {},
   "source": [
    "**Example :**\n",
    "Evolution has been there for million years,the mean length of an insect in earlier times were 6.09 cms. Now we wish to find out if the lengths now are significantly different from earlier times. Let's say we have 29 sample with the sample mean being 6.49 cms and sample standard deviation being 0.4. We are taking significance level to be 0.05.given that t$_{c}$ t-crital value is 2.048.<br>\n",
    "**Solution :** <br>\n",
    " $\\mu $ = 6.09 <br>\n",
    " $\\bar x$ = 6.49 <br>\n",
    " s = 0.4 <br>\n",
    " n = 29 <br>\n",
    " \n",
    " Let's Assume Null Hypothesis to be H$_{o}$ : $\\bar x $ = $\\mu$ <br>\n",
    " Alternative Hypothesis to be H$_{1}$ : $\\bar x$ $\\not=$ $\\mu$ <br>\n",
    " From One Sample T- Testing\n",
    " $$ t = \\frac {\\bar x - \\mu}{(s / \\sqrt n )} $$\n",
    " $$ t = \\frac {6.49 - 6.09}{(0.4 / \\sqrt 29 )} $$\n",
    " $$ = 5.49 $$\n",
    " Here, we can see t$_{c}$ < t-statistic. Therefore, we Reject the Null Hypothesis."
   ]
  },
  {
   "cell_type": "markdown",
   "metadata": {},
   "source": [
    "#### Two Sample T - Test\n",
    "\n",
    "When their is difference in their means and the standard error would be the combine standard error of the two samples.\n",
    "\n",
    "$$ t = \\frac {\\bar x_{1} - \\bar x_{2} } {\\sqrt(\\frac {s_{1}^{2}}{N_{1}} + \\frac {s_{2}^{2}}{N_{2}}) }$$\n",
    "\n",
    "where, $\\bar x_{1} and \\bar x_{2}$ is sample mean <br>\n",
    "       $s_{1} and s_{2}$ is standard deviation<br>\n",
    "       $N_{1} and N_{2} $ is size of population<br>\n",
    "       \n",
    "Degree Of Freedom = $N_{1}$ + $N_{2}$ - 2 "
   ]
  },
  {
   "cell_type": "markdown",
   "metadata": {},
   "source": [
    "**Example :** Yow have two choices to go and eat.One is Hauz Khas and the other is Defense colony.You don't want to spend a lot of money, so you decide to figure out if there is a significant difference in the meal prices of these places.Given Data is Mean of Hauz Khas = 178.89,Mean of Defense colony = 222.86, population size of Hauz khas is 18 and Defence colony is 14 standard deviation of hauz khas = 52.9 and Defence colony = 43.58.Use $\\alpha $ = 0.05.<br>\n",
    "\n",
    "**Solution :** <br>\n",
    "\n",
    "$\\bar x_{1} = 222.86 , \\bar x_{2} = 178.89 $  <br>\n",
    "$s_{1} = 43.58 , s_{2} = 52.9 $ <br>\n",
    "$N_{1} = 14 , N_{2} = 18 $ <br>\n",
    "\n",
    "Let's Assume Null Hypothesis to be H$_{o}$ : $\\bar x $ = $\\mu$ <br>\n",
    "Alternative Hypothesis to be H$_{1}$ : $\\bar x$ $\\not=$ $\\mu$ <br>\n",
    "From Two Sample T- Testing\n",
    "\n",
    "$$ t = \\frac {\\bar x_{1} - \\bar x_{2} } {\\sqrt(\\frac {s_{1}^{2}}{N_{1}} + \\frac {s_{2}^{2}}{N_{2}}) }$$\n",
    "\n",
    "$$ t = \\frac {222.86 - 178.89 } {\\sqrt(\\frac {(43.58)^{2}}{14} + \\frac {(52.9)^{2}}{14}) }$$\n",
    "\n",
    "$$ = 2.58 $$\n",
    "\n",
    "Degrees of freedom(D.f):18+14-2 = 30. <br>\n",
    "Tabulated value of t for 30 D.f at 0.05 l.o.s is 0.015021.<br>\n",
    "∵Calculated |𝒕|> Tabulated |𝒕|<br>\n",
    "∴Null Hypothesis is rejected."
   ]
  },
  {
   "cell_type": "markdown",
   "metadata": {},
   "source": [
    "#### Paired T - Test\n",
    "\n",
    "This test is used when we need to check if the same sample has changed it's behaviour after an intervention, or behaves significantly different in two conditions.\n",
    "\n",
    "Null Hypothesis would be the difference between two sample means is 0 i.e. $\\bar x_{1} - \\bar x_{2} $ = 0. <br>\n",
    "Alternative Hypothesis would be the significant difference between the two i.e. $\\bar x_{1} - \\bar x_{2} $ <> 0.<br>\n",
    "\n",
    "$$ t = \\frac {\\bar d } {( s_{d}/ \\sqrt n)} $$\n",
    "\n",
    "where, $\\bar d$ is mean of the case wise difference between before and after <br>\n",
    "$ s_{d} $ is standard deviation of the difference <br>\n",
    "n is sample size <br>"
   ]
  },
  {
   "cell_type": "markdown",
   "metadata": {},
   "source": [
    "**Example :** \n",
    "To verify whether a course in accounting improved performance, a similar test was given to 12 participant both before and after the course. The marks are\n",
    "\n",
    "| Before Course | 44 | 40 | 61 | 52 | 32 | 44 | 70 | 41 | 67 | 72 | 53 | 72 |\n",
    "|--------------:|:---|:---|:---|:---|:---|:---|:---|:---|:---|:---|:---|:---|\n",
    "| After Course  | 53 | 38 | 69 | 57 | 46 | 39 | 73 | 48 | 73 | 74 | 60 | 78 |\n",
    "\n",
    "Whether the course is useful?\n",
    "\n",
    "**solution :**\n",
    " Given 𝑛=12 and the samples are dependent, so we use paired t-test.<br>\n",
    " Null hypothesis H$_{0}$: The course is not useful.i.e., 𝑑̅=0.<br>\n",
    " Alternate Hypothesis H$_{1}$: 𝑑̅≠0. We take d = (X$_{after}$–X$_{before}$).\n",
    " \n",
    "| Before Course | After Course | d = A.C - B.C |      d^2      |\n",
    "|--------------:|:-------------|:--------------|:--------------|\n",
    "|      44       |     53       |      9        |      81       |\n",
    "|      40       |     38       |     -2        |      4        |\n",
    "|      61       |     69       |      8        |      64       |\n",
    "|      52       |     57       |      5        |      25       |\n",
    "|      32       |     46       |     14        |     196       |\n",
    "|      44       |     39       |     -5        |      25       |\n",
    "|      70       |     73       |      3        |      9        |\n",
    "|      41       |     48       |      7        |      49       |\n",
    "|      67       |     73       |      6        |      36       |\n",
    "|      72       |     74       |      2        |      4        |\n",
    "|      53       |     60       |      7        |      49       |\n",
    "|      72       |     78       |      6        |      36       |\n",
    "|--------------:|:-------------|:--------------|:--------------|                          \n",
    "|               |              |   $\\sum$d=60  | $\\sum d^2$=578|\n",
    "\n",
    "\n",
    "$\\bar d $ = $\\frac {\\sum d}{n}$ = $ \\frac {60}{12} $ = 5,\n",
    "\n",
    "$$ s^2 = \\frac {\\sum d^2 - \\frac{(\\sum d^2)}{n}}{n-1} = \\frac { 578 - \\frac {3600}{12}}{12-1} = 25.273 $$\n",
    " \n",
    "$$ s = \\sqrt 25.273 = 5.03 $$\n",
    "\n",
    "Test Statistic,\n",
    "\n",
    "$$ t = \\frac {\\bar d } {( s_{d}/ \\sqrt n)} = \\frac {5} {(5.03/ \\sqrt 12)} = 3.44 $$\n",
    "\n",
    "Calculated |𝑡|= 3.44.<br>\n",
    "Degrees of freedom (D.f): n-1 = 12 –1 = 11.<br>\n",
    "Tabulated value of t for 11 at 5% l.o.s is 2.201(two-tailed)<br>\n",
    "∵Calculated |𝒕|>Tabulated |𝒕|<br>\n",
    "∴H$_{0}$ is rejected.i.e., The course is useful."
   ]
  },
  {
   "cell_type": "markdown",
   "metadata": {},
   "source": [
    "#### Chi Square Test\n",
    "\n",
    "This test is used when frequency is given.\n",
    "\n",
    "$$ {\\chi}^2= \\sum \\frac{(O_{i}-E_{i})^2}{E_{i}} $$\n",
    "\n",
    "where, $O_{i}$ is the observed frequency. <br>\n",
    "$E_{i}$ is the expected frequency."
   ]
  },
  {
   "cell_type": "markdown",
   "metadata": {},
   "source": [
    "**Example :**\n",
    "There is a Training institute called \"Winiit\", Which claims that 41 out of 100 students in it's class qualify for premier Engineering institutes. Normally each year only 33% students are able to make it into premier Engineering institutes.So should you enroll ypurself in \"Winiit\"?"
   ]
  },
  {
   "cell_type": "markdown",
   "metadata": {},
   "source": [
    "##### Frequency Table\n",
    "\n",
    "|           |   Successful     |   Unsuccessful    |\n",
    "|-----------|:-----------------|:------------------|\n",
    "| Observed  |       41         |        59         |\n",
    "| Expected  |       33         |        67         |"
   ]
  },
  {
   "cell_type": "markdown",
   "metadata": {},
   "source": [
    "**Solution :**\n",
    "Null Hypothesis : No significant difference between observed and expected.<br>\n",
    "Alternative Hypothesis : Significant difference between observed and expected.<br>\n",
    "\n",
    "where,41 and 59 are Observed Frequencies.<br>\n",
    "33 and 67 are Expected Frequencies.\n",
    "\n",
    "$$ {\\chi}^2= \\sum \\frac{(O_{i}-E_{i})^2}{E_{i}} $$\n",
    "\n",
    "$$ {\\chi}^2= \\sum \\frac{(41-33)^2}{33} + \\sum \\frac{(59-67)^2}{67} $$\n",
    "\n",
    "$$ {\\chi}^2 = 2.89 $$\n",
    "\n",
    "Degree of Freedom = Number of catageries(successful,Unsuccessfull) - 1\n",
    "                  = 2-1 = 1\n",
    "\n",
    "Tabulated value of $\\chi^2$ for 1 D.f at 0.05 l.o.s is 3.84.<br>\n",
    "∵Calculated |𝒕|<Tabulated |𝒕|<br>\n",
    "∴ We fail to reject H$_{0}$ Null Hyposthesis."
   ]
  },
  {
   "cell_type": "markdown",
   "metadata": {},
   "source": [
    "#### Z-Test\n",
    "\n",
    "This is used for large sample size that is greater than or equal to 30.\n",
    "\n",
    "$$ Z = \\frac {\\bar x - \\mu } {( \\sigma / \\sqrt n)} $$\n",
    "\n",
    "where, $\\sigma $ is Standard Deviation of population."
   ]
  },
  {
   "cell_type": "markdown",
   "metadata": {},
   "source": [
    "**Example :**\n",
    "In order to test whether average weekly maintenance cost of a fleet of buses is more than Rs. 500,  a  random  sample  of  50  buses  was  taken.  The  mean  and  the  standard  deviation  were found to be Rs. 508 and Rs. 40 (Use $\\alpha$ = 0.05)\n",
    "\n",
    "**Solution :**\n",
    "Givenn = 50 > 30 (large sample), 𝑥̅=508,𝑠=40 <br>\n",
    "Null hypothesis H$_{0}$ : $\\mu $ = 500. <br>\n",
    "Alternate Hypothesis H$_{1}$: $\\mu $> 500. <br>\n",
    "The significance level is 0.05 and H$_{1}$ is a right tailed. <br>\n",
    "The test criterion is the Z test. <br>\n",
    "Test statistic:\n",
    "$$ Z = \\frac {\\bar x - \\mu } {( \\sigma / \\sqrt n)} =  \\frac {508 - 500 } {( 40 / \\sqrt 50)} = 1.414 $$\n",
    "|Z| = 1.414 <br>\n",
    "At $\\alpha$ = 0.05, the critical value of Z = 1.645 (i.e. right tailed) and The computed value of Z (1.414)< critical value of Z(1.645) <br>\n",
    "∴we  accept  null  hypothesis  H$_{0}$ that $\\mu$ = 500. i.e.,The  average  maintenance  cost  is  not  more than Rs. 500."
   ]
  }
 ],
 "metadata": {
  "kernelspec": {
   "display_name": "Python 3",
   "language": "python",
   "name": "python3"
  },
  "language_info": {
   "codemirror_mode": {
    "name": "ipython",
    "version": 3
   },
   "file_extension": ".py",
   "mimetype": "text/x-python",
   "name": "python",
   "nbconvert_exporter": "python",
   "pygments_lexer": "ipython3",
   "version": "3.8.5"
  }
 },
 "nbformat": 4,
 "nbformat_minor": 4
}
